{
 "cells": [
  {
   "cell_type": "markdown",
   "id": "ec6f11bb-f25c-47cb-96c2-f3b241ea4319",
   "metadata": {},
   "source": [
    "# Variable & Constants"
   ]
  },
  {
   "cell_type": "code",
   "execution_count": 1,
   "id": "3daabc98-6dfe-499c-913f-03f2de66df05",
   "metadata": {},
   "outputs": [],
   "source": [
    "from pathlib import Path"
   ]
  },
  {
   "cell_type": "markdown",
   "id": "55279685-777e-4263-a2cf-5ed5e8a13bc3",
   "metadata": {},
   "source": [
    "## Path"
   ]
  },
  {
   "cell_type": "code",
   "execution_count": 2,
   "id": "6d90d69c-ca52-40eb-8201-546950099b14",
   "metadata": {},
   "outputs": [],
   "source": [
    "# csvディレクトリのベース\n",
    "base_dir = Path(\"../csv\")\n",
    "\n",
    "# サブディレクトリをPathで定義\n",
    "result_dir = base_dir / \"成績\"\n",
    "time_dir = base_dir / \"基準タイム\"\n",
    "payout_dir = base_dir / \"配当\""
   ]
  },
  {
   "cell_type": "markdown",
   "id": "f614f065-0b1b-47a1-b043-04bab418c234",
   "metadata": {},
   "source": [
    "## Variables"
   ]
  },
  {
   "cell_type": "code",
   "execution_count": 8,
   "id": "3a390858-ff19-4a37-ad0f-c6932fbf571f",
   "metadata": {},
   "outputs": [],
   "source": [
    "location_list = [\n",
    "    # 東京\n",
    "    \"東\",\n",
    "    # 中山\n",
    "    \"中\",\n",
    "    # 阪神\n",
    "    \"阪\",\n",
    "    # 京都\n",
    "    \"京\",\n",
    "    # 中京\n",
    "    \"名\",\n",
    "    # 函館\n",
    "    \"函\",\n",
    "    # 小倉\n",
    "    \"小\",\n",
    "    # 札幌\n",
    "    \"札\",\n",
    "    # 新潟\n",
    "    \"新\",\n",
    "    # 福島\n",
    "    \"福\",\n",
    "]"
   ]
  },
  {
   "cell_type": "code",
   "execution_count": 4,
   "id": "7f251f52-fa80-4578-89b3-33bbb9a6aa19",
   "metadata": {},
   "outputs": [],
   "source": [
    "class_code_labels = {\n",
    "   7: \"未勝利\",\n",
    "   11: \"未出走\",\n",
    "   15: \"新馬\",\n",
    "   19: \"1勝クラス\",\n",
    "   23: \"1勝クラス\",\n",
    "   39: \"2勝クラス\",\n",
    "   43: \"2勝クラス\",\n",
    "   63: \"3勝クラス\",\n",
    "   67: \"3勝クラス\",\n",
    "   115: \"オープンクラス\",\n",
    "   131: \"オープンクラス\",\n",
    "   147: \"オープンクラス\",\n",
    "   163: \"G3\",\n",
    "   179: \"G2\",\n",
    "   195: \"G1\",\n",
    "}"
   ]
  },
  {
   "cell_type": "markdown",
   "id": "47b8a073-a838-42e4-8848-8aa28e21bcf0",
   "metadata": {},
   "source": [
    "## Columns"
   ]
  },
  {
   "cell_type": "code",
   "execution_count": 5,
   "id": "a1d98115-ca08-49ed-bf03-1cf8be056a71",
   "metadata": {},
   "outputs": [],
   "source": [
    "result_columns = [\n",
    "    \"年\",\n",
    "    \"月\",\n",
    "    \"日\",\n",
    "    \"回次\",\n",
    "    \"場所\",\n",
    "    \"日次\",\n",
    "    \"レース番号\",\n",
    "    \"レース名\",\n",
    "    \"クラスコード\",\n",
    "    \"芝・ダ\",\n",
    "    \"トラックコード\",\n",
    "    \"距離\",\n",
    "    \"馬場状態\",\n",
    "    \"馬名\",\n",
    "    \"性別\",\n",
    "    \"年齢\",\n",
    "    \"騎手名\",\n",
    "    \"斤量\",\n",
    "    \"頭数\",\n",
    "    \"馬番\",\n",
    "    \"確定着順\",\n",
    "    \"入線着順\",\n",
    "    \"異常コード\",\n",
    "    \"着差タイム\",\n",
    "    \"人気順\",\n",
    "    \"走破タイム\",\n",
    "    \"走破時計\",\n",
    "    \"補正タイム\",\n",
    "    \"通過順1\",\n",
    "    \"通過順2\",\n",
    "    \"通過順3\",\n",
    "    \"通過順4\",\n",
    "    \"上がり3Fタイム\",\n",
    "    \"馬体重\",\n",
    "    \"調教師\",\n",
    "    \"所属地\",\n",
    "    \"賞金\",\n",
    "    \"血統登録番号\",\n",
    "    \"騎手コード\",\n",
    "    \"調教師コード\",\n",
    "    \"レースID\",\n",
    "    \"馬主名\",\n",
    "    \"生産者名\",\n",
    "    \"父馬名\",\n",
    "    \"母馬名\",\n",
    "    \"母の父馬名\",\n",
    "    \"毛色\",\n",
    "    \"生年月日\",\n",
    "    \"単勝オッズ\",\n",
    "    \"馬印\",\n",
    "    \"レース印\",\n",
    "    \"PCI\",\n",
    "]"
   ]
  },
  {
   "cell_type": "code",
   "execution_count": 6,
   "id": "796bd12b-b33c-45dd-8665-7e26e7d36dbb",
   "metadata": {},
   "outputs": [],
   "source": [
    "time_columns = [\"レースID\", \"基準タイム\", \"開催名\"]"
   ]
  },
  {
   "cell_type": "code",
   "execution_count": 7,
   "id": "527674c3-ce83-4f33-98d1-a176c5a10a00",
   "metadata": {},
   "outputs": [],
   "source": [
    "payout_columns = [\n",
    "    \"年\"\n",
    "    \"月\"\n",
    "    \"日\"\n",
    "    \"回次\"\n",
    "    \"場所\"\n",
    "    \"日次\"\n",
    "    \"レース番号\"\n",
    "    \"レース名\"\n",
    "    \"クラスコード\"\n",
    "    \"芝・ダ\"\n",
    "    \"コースコード\"\n",
    "    \"距離\"\n",
    "    \"馬場状態\"\n",
    "    \"頭数\"\n",
    "    \"レースID\"\n",
    "]"
   ]
  },
  {
   "cell_type": "code",
   "execution_count": null,
   "id": "9b22894c-0227-4732-9850-efc772f51296",
   "metadata": {},
   "outputs": [],
   "source": []
  },
  {
   "cell_type": "code",
   "execution_count": null,
   "id": "d25b0aef-26b6-440c-8fff-78f0c2ddf7b5",
   "metadata": {},
   "outputs": [],
   "source": []
  },
  {
   "cell_type": "code",
   "execution_count": null,
   "id": "8f54b99f-78d1-4984-904c-570e16a4b8f9",
   "metadata": {},
   "outputs": [],
   "source": []
  }
 ],
 "metadata": {
  "kernelspec": {
   "display_name": "Python 3 (ipykernel)",
   "language": "python",
   "name": "python3"
  },
  "language_info": {
   "codemirror_mode": {
    "name": "ipython",
    "version": 3
   },
   "file_extension": ".py",
   "mimetype": "text/x-python",
   "name": "python",
   "nbconvert_exporter": "python",
   "pygments_lexer": "ipython3",
   "version": "3.11.8"
  }
 },
 "nbformat": 4,
 "nbformat_minor": 5
}
