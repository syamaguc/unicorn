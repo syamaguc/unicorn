{
 "cells": [
  {
   "cell_type": "markdown",
   "id": "f7d0bc3a-3532-4efd-a6ec-05e7aae24983",
   "metadata": {},
   "source": [
    "# クロフネ"
   ]
  }
 ],
 "metadata": {
  "kernelspec": {
   "display_name": "Python 3 (ipykernel)",
   "language": "python",
   "name": "python3"
  },
  "language_info": {
   "codemirror_mode": {
    "name": "ipython",
    "version": 3
   },
   "file_extension": ".py",
   "mimetype": "text/x-python",
   "name": "python",
   "nbconvert_exporter": "python",
   "pygments_lexer": "ipython3",
   "version": "3.11.8"
  }
 },
 "nbformat": 4,
 "nbformat_minor": 5
}
