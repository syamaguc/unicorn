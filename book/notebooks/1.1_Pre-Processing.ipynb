{
 "cells": [
  {
   "cell_type": "markdown",
   "id": "a53bdcd1-b45d-4aa9-9a1f-11a2ce18d6ca",
   "metadata": {},
   "source": [
    "# データ確認・前処理"
   ]
  },
  {
   "cell_type": "code",
   "execution_count": 1,
   "id": "0281408f-145e-4e38-9fdd-7052d21ebb96",
   "metadata": {},
   "outputs": [],
   "source": [
    "import pandas as pd"
   ]
  },
  {
   "cell_type": "code",
   "execution_count": 2,
   "id": "af1ee11c-a425-491c-8049-423d723a5636",
   "metadata": {},
   "outputs": [],
   "source": [
    "%run 0.2_Function.ipynb"
   ]
  },
  {
   "cell_type": "code",
   "execution_count": 3,
   "id": "f307154d-c533-41fe-8e00-fc64f92e30f6",
   "metadata": {},
   "outputs": [],
   "source": [
    "# 2021-2024 東京開催\n",
    "df = result_df(\"2005\", \"2025\")"
   ]
  },
  {
   "cell_type": "code",
   "execution_count": 4,
   "id": "2a9e8efe-e10d-4cd3-8cc1-af17c840d303",
   "metadata": {},
   "outputs": [
    {
     "data": {
      "text/html": [
       "<div>\n",
       "<style scoped>\n",
       "    .dataframe tbody tr th:only-of-type {\n",
       "        vertical-align: middle;\n",
       "    }\n",
       "\n",
       "    .dataframe tbody tr th {\n",
       "        vertical-align: top;\n",
       "    }\n",
       "\n",
       "    .dataframe thead th {\n",
       "        text-align: right;\n",
       "    }\n",
       "</style>\n",
       "<table border=\"1\" class=\"dataframe\">\n",
       "  <thead>\n",
       "    <tr style=\"text-align: right;\">\n",
       "      <th></th>\n",
       "      <th>年</th>\n",
       "      <th>月</th>\n",
       "      <th>日</th>\n",
       "      <th>回次</th>\n",
       "      <th>場所</th>\n",
       "      <th>日次</th>\n",
       "      <th>レース番号</th>\n",
       "      <th>レース名</th>\n",
       "      <th>クラスコード</th>\n",
       "      <th>芝・ダ</th>\n",
       "      <th>...</th>\n",
       "      <th>馬主名</th>\n",
       "      <th>生産者名</th>\n",
       "      <th>父馬名</th>\n",
       "      <th>母馬名</th>\n",
       "      <th>母の父馬名</th>\n",
       "      <th>毛色</th>\n",
       "      <th>生年月日</th>\n",
       "      <th>単勝オッズ</th>\n",
       "      <th>PCI</th>\n",
       "      <th>レース日</th>\n",
       "    </tr>\n",
       "  </thead>\n",
       "  <tbody>\n",
       "    <tr>\n",
       "      <th>404810</th>\n",
       "      <td>15</td>\n",
       "      <td>11</td>\n",
       "      <td>14</td>\n",
       "      <td>5</td>\n",
       "      <td>京都</td>\n",
       "      <td>3</td>\n",
       "      <td>6</td>\n",
       "      <td>500万下・牝</td>\n",
       "      <td>23</td>\n",
       "      <td>ダ</td>\n",
       "      <td>...</td>\n",
       "      <td>H.H.シェイク・モハ</td>\n",
       "      <td>ダーレー・ジャパン</td>\n",
       "      <td>ディープスカイ</td>\n",
       "      <td>ドリームスキーム</td>\n",
       "      <td>Machiavellian</td>\n",
       "      <td>鹿毛</td>\n",
       "      <td>120226</td>\n",
       "      <td>9.2</td>\n",
       "      <td>40.2</td>\n",
       "      <td>2015-11-14</td>\n",
       "    </tr>\n",
       "    <tr>\n",
       "      <th>40991</th>\n",
       "      <td>16</td>\n",
       "      <td>11</td>\n",
       "      <td>6</td>\n",
       "      <td>5</td>\n",
       "      <td>東京</td>\n",
       "      <td>2</td>\n",
       "      <td>5</td>\n",
       "      <td>新馬</td>\n",
       "      <td>15</td>\n",
       "      <td>芝</td>\n",
       "      <td>...</td>\n",
       "      <td>島川隆哉</td>\n",
       "      <td>エスティファーム</td>\n",
       "      <td>トーセンホマレボシ</td>\n",
       "      <td>トーセンピナクル</td>\n",
       "      <td>シンボリクリスエス</td>\n",
       "      <td>栗毛</td>\n",
       "      <td>140223</td>\n",
       "      <td>179.5</td>\n",
       "      <td>51.9</td>\n",
       "      <td>2016-11-06</td>\n",
       "    </tr>\n",
       "    <tr>\n",
       "      <th>315505</th>\n",
       "      <td>21</td>\n",
       "      <td>12</td>\n",
       "      <td>26</td>\n",
       "      <td>6</td>\n",
       "      <td>阪神</td>\n",
       "      <td>8</td>\n",
       "      <td>11</td>\n",
       "      <td>りんくうＨ</td>\n",
       "      <td>131</td>\n",
       "      <td>ダ</td>\n",
       "      <td>...</td>\n",
       "      <td>ラッキーフィールド</td>\n",
       "      <td>Sekie Yoshihara &amp;</td>\n",
       "      <td>Majestic Warrior</td>\n",
       "      <td>Nokaze</td>\n",
       "      <td>Empire Maker</td>\n",
       "      <td>鹿毛</td>\n",
       "      <td>150506</td>\n",
       "      <td>5.4</td>\n",
       "      <td>45.9</td>\n",
       "      <td>2021-12-26</td>\n",
       "    </tr>\n",
       "  </tbody>\n",
       "</table>\n",
       "<p>3 rows × 51 columns</p>\n",
       "</div>"
      ],
      "text/plain": [
       "         年   月   日  回次  場所  日次  レース番号     レース名  クラスコード 芝・ダ  ...          馬主名  \\\n",
       "404810  15  11  14   5  京都   3      6  500万下・牝      23   ダ  ...  H.H.シェイク・モハ   \n",
       "40991   16  11   6   5  東京   2      5       新馬      15   芝  ...         島川隆哉   \n",
       "315505  21  12  26   6  阪神   8     11    りんくうＨ     131   ダ  ...    ラッキーフィールド   \n",
       "\n",
       "                     生産者名               父馬名       母馬名          母の父馬名  毛色  \\\n",
       "404810          ダーレー・ジャパン           ディープスカイ  ドリームスキーム  Machiavellian  鹿毛   \n",
       "40991            エスティファーム         トーセンホマレボシ  トーセンピナクル      シンボリクリスエス  栗毛   \n",
       "315505  Sekie Yoshihara &  Majestic Warrior    Nokaze   Empire Maker  鹿毛   \n",
       "\n",
       "          生年月日  単勝オッズ   PCI       レース日  \n",
       "404810  120226    9.2  40.2 2015-11-14  \n",
       "40991   140223  179.5  51.9 2016-11-06  \n",
       "315505  150506    5.4  45.9 2021-12-26  \n",
       "\n",
       "[3 rows x 51 columns]"
      ]
     },
     "execution_count": 4,
     "metadata": {},
     "output_type": "execute_result"
    }
   ],
   "source": [
    "df.sample(3)"
   ]
  },
  {
   "cell_type": "code",
   "execution_count": 5,
   "id": "93c73aa6-6778-46b7-aee1-c31b0292de09",
   "metadata": {},
   "outputs": [
    {
     "data": {
      "text/plain": [
       "Index(['年', '月', '日', '回次', '場所', '日次', 'レース番号', 'レース名', 'クラスコード', '芝・ダ',\n",
       "       'トラックコード', '距離', '馬場状態', '馬名', '性別', '年齢', '騎手名', '斤量', '頭数', '馬番',\n",
       "       '確定着順', '入線着順', '異常コード', '着差タイム', '人気順', '走破タイム', '走破時計', '補正タイム',\n",
       "       '通過順1', '通過順2', '通過順3', '通過順4', '上がり3Fタイム', '馬体重', '調教師', '所属地', '賞金',\n",
       "       '血統登録番号', '騎手コード', '調教師コード', 'レースID', '馬主名', '生産者名', '父馬名', '母馬名',\n",
       "       '母の父馬名', '毛色', '生年月日', '単勝オッズ', 'PCI', 'レース日'],\n",
       "      dtype='object')"
      ]
     },
     "execution_count": 5,
     "metadata": {},
     "output_type": "execute_result"
    }
   ],
   "source": [
    "df.columns"
   ]
  },
  {
   "cell_type": "code",
   "execution_count": 12,
   "id": "7cc8f2f1-813c-4804-b5fb-5722e2ecd1bd",
   "metadata": {},
   "outputs": [
    {
     "data": {
      "text/plain": [
       "array(['中山', '阪神', '京都', '中京', '小倉', '福島', '東京', '新潟', '札幌', '函館'],\n",
       "      dtype=object)"
      ]
     },
     "execution_count": 12,
     "metadata": {},
     "output_type": "execute_result"
    }
   ],
   "source": [
    "# https://targetfaq.jra-van.jp/faq/detail?site=SVKNEGBV&id=706\n",
    "# =======================================\n",
    "#              クラスコード\n",
    "# =======================================\n",
    "# 7　　　　  未勝利\n",
    "# 11\t　　未出走\n",
    "# 15\t　　新馬\n",
    "# 19\t　　400万下\n",
    "# 23\t　　500万下\n",
    "# 39\t　　900万下\n",
    "# 43\t　　1000万下\n",
    "# 63\t　　1500万下\n",
    "# 67\t　　1600万下\n",
    "# 131\t　　重賞以外のオープン\n",
    "# 147\t　　グレード無し重賞\n",
    "# 163\t　　G3\n",
    "# 179\t　　G2\n",
    "# 195\t　　G1\n",
    "# =======================================\n",
    "\n",
    "#df[\"クラスコード\"].unique()\n",
    "df[\"クラスコード\"].unique()"
   ]
  },
  {
   "cell_type": "code",
   "execution_count": 11,
   "id": "8a1a3c1c-cb5e-403b-8eda-e8a11d8e515a",
   "metadata": {},
   "outputs": [
    {
     "data": {
      "text/html": [
       "<div>\n",
       "<style scoped>\n",
       "    .dataframe tbody tr th:only-of-type {\n",
       "        vertical-align: middle;\n",
       "    }\n",
       "\n",
       "    .dataframe tbody tr th {\n",
       "        vertical-align: top;\n",
       "    }\n",
       "\n",
       "    .dataframe thead th {\n",
       "        text-align: right;\n",
       "    }\n",
       "</style>\n",
       "<table border=\"1\" class=\"dataframe\">\n",
       "  <thead>\n",
       "    <tr style=\"text-align: right;\">\n",
       "      <th></th>\n",
       "      <th>レースID</th>\n",
       "      <th>補正タイム</th>\n",
       "      <th>走破タイム</th>\n",
       "      <th>上がり3Fタイム</th>\n",
       "    </tr>\n",
       "  </thead>\n",
       "  <tbody>\n",
       "    <tr>\n",
       "      <th>940207</th>\n",
       "      <td>117250815</td>\n",
       "      <td>87</td>\n",
       "      <td>123.2</td>\n",
       "      <td>36.4</td>\n",
       "    </tr>\n",
       "    <tr>\n",
       "      <th>28690</th>\n",
       "      <td>724120214</td>\n",
       "      <td>67</td>\n",
       "      <td>75.6</td>\n",
       "      <td>39.2</td>\n",
       "    </tr>\n",
       "    <tr>\n",
       "      <th>360441</th>\n",
       "      <td>305140607</td>\n",
       "      <td>86</td>\n",
       "      <td>107.5</td>\n",
       "      <td>38.6</td>\n",
       "    </tr>\n",
       "  </tbody>\n",
       "</table>\n",
       "</div>"
      ],
      "text/plain": [
       "            レースID  補正タイム  走破タイム  上がり3Fタイム\n",
       "940207  117250815     87  123.2      36.4\n",
       "28690   724120214     67   75.6      39.2\n",
       "360441  305140607     86  107.5      38.6"
      ]
     },
     "execution_count": 11,
     "metadata": {},
     "output_type": "execute_result"
    }
   ],
   "source": [
    "# ====================================\n",
    "#              レースID\n",
    "# ====================================\n",
    "#\n",
    "#            ppyyknrruu\n",
    "#\n",
    "# pp:場所コード\n",
    "# yy:西暦下2桁\n",
    "# k・kk:回次\n",
    "# n・nn:日次\n",
    "# rr:レース番号\n",
    "# uu:馬番\n",
    "#\n",
    "# ※ 場所コード先頭に0がつくケースとつかないケースあり\n",
    "\n",
    "# ====================================\n",
    "#              場所コード\n",
    "# ====================================\n",
    "# 01: 札幌\n",
    "# 02: 函館\n",
    "# 03: 福島\n",
    "# 04: 新潟\n",
    "# 05: 東京\n",
    "# 06: 中山\n",
    "# 07: 中京\n",
    "# 08: 京都\n",
    "# 09: 阪神\n",
    "# 10: 小倉\n",
    "\n",
    "df[[\"レースID\", \"補正タイム\", \"走破タイム\", \"上がり3Fタイム\"]].sample(3)"
   ]
  },
  {
   "cell_type": "code",
   "execution_count": null,
   "id": "abaa27ee-5d09-4e27-9cd6-957491e6b07d",
   "metadata": {},
   "outputs": [],
   "source": []
  }
 ],
 "metadata": {
  "kernelspec": {
   "display_name": "Python 3 (ipykernel)",
   "language": "python",
   "name": "python3"
  },
  "language_info": {
   "codemirror_mode": {
    "name": "ipython",
    "version": 3
   },
   "file_extension": ".py",
   "mimetype": "text/x-python",
   "name": "python",
   "nbconvert_exporter": "python",
   "pygments_lexer": "ipython3",
   "version": "3.11.8"
  }
 },
 "nbformat": 4,
 "nbformat_minor": 5
}
