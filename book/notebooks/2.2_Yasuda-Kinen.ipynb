{
 "cells": [
  {
   "cell_type": "markdown",
   "id": "80e9954d-f81c-44f1-b38f-9158cabd14b5",
   "metadata": {},
   "source": [
    "# 安田記念"
   ]
  },
  {
   "cell_type": "code",
   "execution_count": null,
   "id": "b6ead06f-3e39-4d83-aabe-f9dd2c1f47c0",
   "metadata": {},
   "outputs": [],
   "source": []
  }
 ],
 "metadata": {
  "kernelspec": {
   "display_name": "Python 3 (ipykernel)",
   "language": "python",
   "name": "python3"
  },
  "language_info": {
   "codemirror_mode": {
    "name": "ipython",
    "version": 3
   },
   "file_extension": ".py",
   "mimetype": "text/x-python",
   "name": "python",
   "nbconvert_exporter": "python",
   "pygments_lexer": "ipython3",
   "version": "3.11.8"
  }
 },
 "nbformat": 4,
 "nbformat_minor": 5
}
