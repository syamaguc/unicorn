{
 "cells": [
  {
   "cell_type": "markdown",
   "id": "1878b46a-158f-4534-a84b-5f22f5db26e6",
   "metadata": {},
   "source": [
    "# 中山2000m"
   ]
  },
  {
   "cell_type": "code",
   "execution_count": null,
   "id": "d75c9429-1d2d-434b-823e-767319f29d11",
   "metadata": {},
   "outputs": [],
   "source": []
  }
 ],
 "metadata": {
  "kernelspec": {
   "display_name": "Python 3 (ipykernel)",
   "language": "python",
   "name": "python3"
  },
  "language_info": {
   "codemirror_mode": {
    "name": "ipython",
    "version": 3
   },
   "file_extension": ".py",
   "mimetype": "text/x-python",
   "name": "python",
   "nbconvert_exporter": "python",
   "pygments_lexer": "ipython3",
   "version": "3.11.8"
  }
 },
 "nbformat": 4,
 "nbformat_minor": 5
}
