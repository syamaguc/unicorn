{
 "cells": [
  {
   "cell_type": "code",
   "execution_count": 1,
   "id": "fe40c47a-a670-4db2-9f4e-fb76a5294248",
   "metadata": {},
   "outputs": [],
   "source": [
    "import pandas as pd"
   ]
  },
  {
   "cell_type": "code",
   "execution_count": 2,
   "id": "f1235af2-072b-4d61-b139-61d3b75dca0d",
   "metadata": {},
   "outputs": [],
   "source": [
    "%run 0.1_Variables-and-Constants.ipynb"
   ]
  },
  {
   "cell_type": "code",
   "execution_count": 3,
   "id": "deee02da-5f40-4dbb-96df-7c3b25dc0c81",
   "metadata": {},
   "outputs": [],
   "source": [
    "def result_df(t_start=\"2015\", t_end=\"2025\", t_location=location_all):\n",
    "    csv_dir = Path(result_dir)\n",
    "    csv_files = csv_dir.glob(\"**/*.CSV\")\n",
    "\n",
    "    # 空のDataFrameを作成\n",
    "    df = pd.DataFrame()\n",
    "\n",
    "    # CSVファイルごとに処理\n",
    "    for file in csv_files:\n",
    "        year = \"20\" + file.stem[0:2]\n",
    "        held = file.stem[2]\n",
    "        location = file.stem[3]\n",
    "        if (\n",
    "            int(year) >= int(t_start)\n",
    "            and int(year) <= int(t_end)\n",
    "            and location in t_location\n",
    "        ):\n",
    "            # 最適化: chunksizeを指定してメモリ効率良く処理\n",
    "            chunk_iter = pd.read_csv(\n",
    "                file,\n",
    "                chunksize=10000,\n",
    "                encoding=\"cp932\",\n",
    "                header=None,\n",
    "                names=result_columns,\n",
    "            )\n",
    "            for chunk in chunk_iter:\n",
    "                df = pd.concat([df, chunk], ignore_index=True)\n",
    "    ## git-lfs 対策\n",
    "    # df = df[\n",
    "    #    ~df.apply(\n",
    "    #        lambda row: row.astype(str).str.contains(\"git-lfs\", case=False).any(),\n",
    "    #        axis=1,\n",
    "    #    )\n",
    "    # ]\n",
    "    # 扱い易いようにデータの前処理\n",
    "    # 年、月、日からdateカラム（YYMMDD）を生成\n",
    "    df[\"レース日\"] = (\n",
    "        df[\"年\"].astype(str).str.zfill(2)\n",
    "        + df[\"月\"].astype(str).str.zfill(2)\n",
    "        + df[\"日\"].astype(str).str.zfill(2)\n",
    "    )\n",
    "    # dateカラムをdatetime型に変換\n",
    "    df[\"レース日\"] = pd.to_datetime(df[\"レース日\"], format=\"%y%m%d\", yearfirst=True)\n",
    "\n",
    "    # 生年月日カラムをdatetime型に変換\n",
    "    # df[\"生年月日\"] = pd.to_datetime(df[\"生年月日\"], format=\"%y%m%d\", yearfirst=True)\n",
    "\n",
    "    # 不要なカラムを削除\n",
    "    df.drop(columns=[\"馬印\", \"レース印\"], inplace=True)  # リストで渡す\n",
    "    return df"
   ]
  },
  {
   "cell_type": "code",
   "execution_count": 4,
   "id": "7fab936a-210f-46cf-92a5-dc1d4810d31c",
   "metadata": {},
   "outputs": [],
   "source": [
    "def time_df(t_start=\"2015\", t_end=\"2025\", t_location=location_all):\n",
    "    csv_dir = Path(time_dir)\n",
    "    csv_files = csv_dir.glob(\"**/*.CSV\")\n",
    "\n",
    "    # 空のDataFrameを作成\n",
    "    df = pd.DataFrame()\n",
    "\n",
    "    # CSVファイルごとに処理\n",
    "    for file in csv_files:\n",
    "        year = \"20\" + file.stem[0:2]\n",
    "        held = file.stem[2]\n",
    "        location = file.stem[3]\n",
    "        if (\n",
    "            int(year) >= int(t_start)\n",
    "            and int(year) <= int(t_end)\n",
    "            and location in t_location\n",
    "        ):\n",
    "            # 最適化: chunksizeを指定してメモリ効率良く処理\n",
    "            chunk_iter = pd.read_csv(\n",
    "                file,\n",
    "                chunksize=10000,\n",
    "                encoding=\"cp932\",\n",
    "                header=None,\n",
    "                names=time_columns,\n",
    "            )\n",
    "            for chunk in chunk_iter:\n",
    "                df = pd.concat([df, chunk], ignore_index=True)\n",
    "    pattern = r\"(?P<min>\\d)\\.(?P<sec>\\d{2})\\.(?P<tenth>\\d)\"\n",
    "    out = df[\"基準タイム\"].str.extract(pattern).astype(int)\n",
    "    df[\"基準タイム(秒)\"] = out[\"min\"] * 60 + out[\"sec\"] + out[\"tenth\"] / 10\n",
    "    return df"
   ]
  }
 ],
 "metadata": {
  "kernelspec": {
   "display_name": "Python 3 (ipykernel)",
   "language": "python",
   "name": "python3"
  },
  "language_info": {
   "codemirror_mode": {
    "name": "ipython",
    "version": 3
   },
   "file_extension": ".py",
   "mimetype": "text/x-python",
   "name": "python",
   "nbconvert_exporter": "python",
   "pygments_lexer": "ipython3",
   "version": "3.11.8"
  }
 },
 "nbformat": 4,
 "nbformat_minor": 5
}
