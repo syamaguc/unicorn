{
 "cells": [
  {
   "cell_type": "markdown",
   "id": "68f1ba7b-18e4-4ca9-a199-3e81cba67d0c",
   "metadata": {},
   "source": [
    "# ディープインパクト産駒"
   ]
  },
  {
   "cell_type": "code",
   "execution_count": null,
   "id": "a2443370-9c50-4618-8479-03f2057662e5",
   "metadata": {},
   "outputs": [],
   "source": []
  }
 ],
 "metadata": {
  "kernelspec": {
   "display_name": "Python 3 (ipykernel)",
   "language": "python",
   "name": "python3"
  },
  "language_info": {
   "codemirror_mode": {
    "name": "ipython",
    "version": 3
   },
   "file_extension": ".py",
   "mimetype": "text/x-python",
   "name": "python",
   "nbconvert_exporter": "python",
   "pygments_lexer": "ipython3",
   "version": "3.11.8"
  }
 },
 "nbformat": 4,
 "nbformat_minor": 5
}
