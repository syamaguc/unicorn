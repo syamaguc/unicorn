{
 "cells": [
  {
   "cell_type": "markdown",
   "id": "ef5796bd-e179-4e9c-88e9-c133ab7158d2",
   "metadata": {},
   "source": [
    "# ジョッキー"
   ]
  },
  {
   "cell_type": "code",
   "execution_count": null,
   "id": "984d1a3f-6b65-4aa2-b446-f57774c067ac",
   "metadata": {},
   "outputs": [],
   "source": []
  }
 ],
 "metadata": {
  "kernelspec": {
   "display_name": "Python 3 (ipykernel)",
   "language": "python",
   "name": "python3"
  },
  "language_info": {
   "codemirror_mode": {
    "name": "ipython",
    "version": 3
   },
   "file_extension": ".py",
   "mimetype": "text/x-python",
   "name": "python",
   "nbconvert_exporter": "python",
   "pygments_lexer": "ipython3",
   "version": "3.11.8"
  }
 },
 "nbformat": 4,
 "nbformat_minor": 5
}
