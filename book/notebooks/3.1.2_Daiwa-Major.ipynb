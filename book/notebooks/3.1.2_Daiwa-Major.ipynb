{
 "cells": [
  {
   "cell_type": "markdown",
   "id": "68f1ba7b-18e4-4ca9-a199-3e81cba67d0c",
   "metadata": {},
   "source": [
    "# ダイワメジャー産駒の分析"
   ]
  }
 ],
 "metadata": {
  "kernelspec": {
   "display_name": "Python 3 (ipykernel)",
   "language": "python",
   "name": "python3"
  },
  "language_info": {
   "codemirror_mode": {
    "name": "ipython",
    "version": 3
   },
   "file_extension": ".py",
   "mimetype": "text/x-python",
   "name": "python",
   "nbconvert_exporter": "python",
   "pygments_lexer": "ipython3",
   "version": "3.11.8"
  }
 },
 "nbformat": 4,
 "nbformat_minor": 5
}
